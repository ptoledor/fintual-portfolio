{
 "cells": [
  {
   "cell_type": "code",
   "execution_count": 1,
   "metadata": {},
   "outputs": [],
   "source": [
    "import numpy as np\n",
    "import pandas as pd\n",
    "import requests\n",
    "import seaborn as sns\n",
    "\n",
    "id_conservative_streep = '15077'\n",
    "id_conservative_clooney = '188'\n",
    "id_moderate_pit = '187'\n",
    "id_risky_norris = '186'"
   ]
  },
  {
   "cell_type": "code",
   "execution_count": 18,
   "metadata": {},
   "outputs": [
    {
     "data": {
      "text/html": [
       "<div>\n",
       "<style scoped>\n",
       "    .dataframe tbody tr th:only-of-type {\n",
       "        vertical-align: middle;\n",
       "    }\n",
       "\n",
       "    .dataframe tbody tr th {\n",
       "        vertical-align: top;\n",
       "    }\n",
       "\n",
       "    .dataframe thead th {\n",
       "        text-align: right;\n",
       "    }\n",
       "</style>\n",
       "<table border=\"1\" class=\"dataframe\">\n",
       "  <thead>\n",
       "    <tr style=\"text-align: right;\">\n",
       "      <th></th>\n",
       "      <th>id</th>\n",
       "      <th>type</th>\n",
       "      <th>attributes.name</th>\n",
       "      <th>attributes.symbol</th>\n",
       "      <th>attributes.category</th>\n",
       "      <th>attributes.currency</th>\n",
       "      <th>attributes.max_scale</th>\n",
       "      <th>attributes.run</th>\n",
       "      <th>attributes.data_source</th>\n",
       "    </tr>\n",
       "  </thead>\n",
       "  <tbody>\n",
       "    <tr>\n",
       "      <th>0</th>\n",
       "      <td>1575</td>\n",
       "      <td>conceptual_asset</td>\n",
       "      <td>QUEST GLOBAL DEBT FONDO DE INVERSIÓN</td>\n",
       "      <td>FINV-9503</td>\n",
       "      <td>investment_fund</td>\n",
       "      <td>None</td>\n",
       "      <td>4</td>\n",
       "      <td>9503-6</td>\n",
       "      <td>http://www.cmfchile.cl</td>\n",
       "    </tr>\n",
       "    <tr>\n",
       "      <th>1</th>\n",
       "      <td>4208</td>\n",
       "      <td>conceptual_asset</td>\n",
       "      <td>FONDO DE INVERSION SANTANDER DEUDA PRIVADA INT...</td>\n",
       "      <td>FINV-10407</td>\n",
       "      <td>investment_fund</td>\n",
       "      <td>None</td>\n",
       "      <td>4</td>\n",
       "      <td>10407-8</td>\n",
       "      <td>http://www.cmfchile.cl</td>\n",
       "    </tr>\n",
       "    <tr>\n",
       "      <th>2</th>\n",
       "      <td>4142</td>\n",
       "      <td>conceptual_asset</td>\n",
       "      <td>FONDO MUTUO BICE ESTRUCTURADO UF V</td>\n",
       "      <td>FFMM-BICE-10430</td>\n",
       "      <td>mutual_fund</td>\n",
       "      <td>None</td>\n",
       "      <td>4</td>\n",
       "      <td>10430-2</td>\n",
       "      <td>http://www.cmfchile.cl</td>\n",
       "    </tr>\n",
       "    <tr>\n",
       "      <th>3</th>\n",
       "      <td>2784</td>\n",
       "      <td>conceptual_asset</td>\n",
       "      <td>Franklin Templeton Deuda Corto Plazo</td>\n",
       "      <td>FT-LIQU</td>\n",
       "      <td>investment_fund</td>\n",
       "      <td>MXN</td>\n",
       "      <td>6</td>\n",
       "      <td></td>\n",
       "      <td>None</td>\n",
       "    </tr>\n",
       "    <tr>\n",
       "      <th>4</th>\n",
       "      <td>3911</td>\n",
       "      <td>conceptual_asset</td>\n",
       "      <td>MBI CONVICCIÓN CHILE FONDO DE INVERSIÓN</td>\n",
       "      <td>FINV-10381</td>\n",
       "      <td>investment_fund</td>\n",
       "      <td>None</td>\n",
       "      <td>4</td>\n",
       "      <td>10381-0</td>\n",
       "      <td>http://www.cmfchile.cl</td>\n",
       "    </tr>\n",
       "    <tr>\n",
       "      <th>...</th>\n",
       "      <td>...</td>\n",
       "      <td>...</td>\n",
       "      <td>...</td>\n",
       "      <td>...</td>\n",
       "      <td>...</td>\n",
       "      <td>...</td>\n",
       "      <td>...</td>\n",
       "      <td>...</td>\n",
       "      <td>...</td>\n",
       "    </tr>\n",
       "    <tr>\n",
       "      <th>2478</th>\n",
       "      <td>7273</td>\n",
       "      <td>conceptual_asset</td>\n",
       "      <td>MP-76362099-BTP0600433-20240820-20240821</td>\n",
       "      <td>MP-76362099-BTP0600433-20240820-20240821</td>\n",
       "      <td>repurchase_agreement</td>\n",
       "      <td>CLP</td>\n",
       "      <td>4</td>\n",
       "      <td></td>\n",
       "      <td>None</td>\n",
       "    </tr>\n",
       "    <tr>\n",
       "      <th>2479</th>\n",
       "      <td>7275</td>\n",
       "      <td>conceptual_asset</td>\n",
       "      <td>CC-76362099-BTP0600433-20240821-20240822</td>\n",
       "      <td>CC-76362099-BTP0600433-20240821-20240822</td>\n",
       "      <td>repurchase_agreement</td>\n",
       "      <td>CLP</td>\n",
       "      <td>4</td>\n",
       "      <td></td>\n",
       "      <td>None</td>\n",
       "    </tr>\n",
       "    <tr>\n",
       "      <th>2480</th>\n",
       "      <td>1488</td>\n",
       "      <td>conceptual_asset</td>\n",
       "      <td>FONDO MUTUO CREDICORP CAPITAL RETORNO ABSOLUTO</td>\n",
       "      <td>FFMM-CREDICORP-9107</td>\n",
       "      <td>mutual_fund</td>\n",
       "      <td>None</td>\n",
       "      <td>4</td>\n",
       "      <td>9107-3</td>\n",
       "      <td>http://www.cmfchile.cl</td>\n",
       "    </tr>\n",
       "    <tr>\n",
       "      <th>2481</th>\n",
       "      <td>7276</td>\n",
       "      <td>conceptual_asset</td>\n",
       "      <td>MP-76362099-BTP0600433-20240821-20240822</td>\n",
       "      <td>MP-76362099-BTP0600433-20240821-20240822</td>\n",
       "      <td>repurchase_agreement</td>\n",
       "      <td>CLP</td>\n",
       "      <td>4</td>\n",
       "      <td></td>\n",
       "      <td>None</td>\n",
       "    </tr>\n",
       "    <tr>\n",
       "      <th>2482</th>\n",
       "      <td>7277</td>\n",
       "      <td>conceptual_asset</td>\n",
       "      <td>RN-76362099-BTP0600433-20240821-20240822</td>\n",
       "      <td>RN-76362099-BTP0600433-20240821-20240822</td>\n",
       "      <td>repurchase_agreement</td>\n",
       "      <td>CLP</td>\n",
       "      <td>4</td>\n",
       "      <td></td>\n",
       "      <td>None</td>\n",
       "    </tr>\n",
       "  </tbody>\n",
       "</table>\n",
       "<p>2483 rows × 9 columns</p>\n",
       "</div>"
      ],
      "text/plain": [
       "        id              type  \\\n",
       "0     1575  conceptual_asset   \n",
       "1     4208  conceptual_asset   \n",
       "2     4142  conceptual_asset   \n",
       "3     2784  conceptual_asset   \n",
       "4     3911  conceptual_asset   \n",
       "...    ...               ...   \n",
       "2478  7273  conceptual_asset   \n",
       "2479  7275  conceptual_asset   \n",
       "2480  1488  conceptual_asset   \n",
       "2481  7276  conceptual_asset   \n",
       "2482  7277  conceptual_asset   \n",
       "\n",
       "                                        attributes.name  \\\n",
       "0                  QUEST GLOBAL DEBT FONDO DE INVERSIÓN   \n",
       "1     FONDO DE INVERSION SANTANDER DEUDA PRIVADA INT...   \n",
       "2                    FONDO MUTUO BICE ESTRUCTURADO UF V   \n",
       "3                  Franklin Templeton Deuda Corto Plazo   \n",
       "4               MBI CONVICCIÓN CHILE FONDO DE INVERSIÓN   \n",
       "...                                                 ...   \n",
       "2478           MP-76362099-BTP0600433-20240820-20240821   \n",
       "2479           CC-76362099-BTP0600433-20240821-20240822   \n",
       "2480     FONDO MUTUO CREDICORP CAPITAL RETORNO ABSOLUTO   \n",
       "2481           MP-76362099-BTP0600433-20240821-20240822   \n",
       "2482           RN-76362099-BTP0600433-20240821-20240822   \n",
       "\n",
       "                             attributes.symbol   attributes.category  \\\n",
       "0                                    FINV-9503       investment_fund   \n",
       "1                                   FINV-10407       investment_fund   \n",
       "2                              FFMM-BICE-10430           mutual_fund   \n",
       "3                                      FT-LIQU       investment_fund   \n",
       "4                                   FINV-10381       investment_fund   \n",
       "...                                        ...                   ...   \n",
       "2478  MP-76362099-BTP0600433-20240820-20240821  repurchase_agreement   \n",
       "2479  CC-76362099-BTP0600433-20240821-20240822  repurchase_agreement   \n",
       "2480                       FFMM-CREDICORP-9107           mutual_fund   \n",
       "2481  MP-76362099-BTP0600433-20240821-20240822  repurchase_agreement   \n",
       "2482  RN-76362099-BTP0600433-20240821-20240822  repurchase_agreement   \n",
       "\n",
       "     attributes.currency  attributes.max_scale attributes.run  \\\n",
       "0                   None                     4         9503-6   \n",
       "1                   None                     4        10407-8   \n",
       "2                   None                     4        10430-2   \n",
       "3                    MXN                     6                  \n",
       "4                   None                     4        10381-0   \n",
       "...                  ...                   ...            ...   \n",
       "2478                 CLP                     4                  \n",
       "2479                 CLP                     4                  \n",
       "2480                None                     4         9107-3   \n",
       "2481                 CLP                     4                  \n",
       "2482                 CLP                     4                  \n",
       "\n",
       "      attributes.data_source  \n",
       "0     http://www.cmfchile.cl  \n",
       "1     http://www.cmfchile.cl  \n",
       "2     http://www.cmfchile.cl  \n",
       "3                       None  \n",
       "4     http://www.cmfchile.cl  \n",
       "...                      ...  \n",
       "2478                    None  \n",
       "2479                    None  \n",
       "2480  http://www.cmfchile.cl  \n",
       "2481                    None  \n",
       "2482                    None  \n",
       "\n",
       "[2483 rows x 9 columns]"
      ]
     },
     "execution_count": 18,
     "metadata": {},
     "output_type": "execute_result"
    }
   ],
   "source": [
    "url = 'https://fintual.cl/api/conceptual_assets/'\n",
    "response = requests.get(url )\n",
    "json = response.json()\n",
    "df = pd.json_normalize(json['data'])\n",
    "df"
   ]
  },
  {
   "cell_type": "code",
   "execution_count": 26,
   "metadata": {},
   "outputs": [
    {
     "data": {
      "text/html": [
       "<div>\n",
       "<style scoped>\n",
       "    .dataframe tbody tr th:only-of-type {\n",
       "        vertical-align: middle;\n",
       "    }\n",
       "\n",
       "    .dataframe tbody tr th {\n",
       "        vertical-align: top;\n",
       "    }\n",
       "\n",
       "    .dataframe thead th {\n",
       "        text-align: right;\n",
       "    }\n",
       "</style>\n",
       "<table border=\"1\" class=\"dataframe\">\n",
       "  <thead>\n",
       "    <tr style=\"text-align: right;\">\n",
       "      <th></th>\n",
       "    </tr>\n",
       "  </thead>\n",
       "  <tbody>\n",
       "  </tbody>\n",
       "</table>\n",
       "</div>"
      ],
      "text/plain": [
       "Empty DataFrame\n",
       "Columns: []\n",
       "Index: []"
      ]
     },
     "execution_count": 26,
     "metadata": {},
     "output_type": "execute_result"
    }
   ],
   "source": [
    "real_assets = \n",
    "\n",
    "caid = \n",
    "\n",
    "url = 'https://fintual.cl/api/conceptual_assets/7276/real_assets'\n",
    "response = requests.get(url )\n",
    "json = response.json()\n",
    "df = pd.json_normalize(json['data'])\n",
    "df"
   ]
  },
  {
   "cell_type": "code",
   "execution_count": 27,
   "metadata": {},
   "outputs": [
    {
     "ename": "NotImplementedError",
     "evalue": "",
     "output_type": "error",
     "traceback": [
      "\u001b[1;31m---------------------------------------------------------------------------\u001b[0m",
      "\u001b[1;31mNotImplementedError\u001b[0m                       Traceback (most recent call last)",
      "Cell \u001b[1;32mIn[27], line 4\u001b[0m\n\u001b[0;32m      2\u001b[0m response \u001b[38;5;241m=\u001b[39m requests\u001b[38;5;241m.\u001b[39mget(url )\n\u001b[0;32m      3\u001b[0m json \u001b[38;5;241m=\u001b[39m response\u001b[38;5;241m.\u001b[39mjson()\n\u001b[1;32m----> 4\u001b[0m df \u001b[38;5;241m=\u001b[39m pd\u001b[38;5;241m.\u001b[39mjson_normalize(json[\u001b[38;5;124m'\u001b[39m\u001b[38;5;124mdata\u001b[39m\u001b[38;5;124m'\u001b[39m])\n\u001b[0;32m      5\u001b[0m df\n",
      "File \u001b[1;32mc:\\Users\\ptole\\anaconda3\\Lib\\site-packages\\pandas\\io\\json\\_normalize.py:447\u001b[0m, in \u001b[0;36mjson_normalize\u001b[1;34m(data, record_path, meta, meta_prefix, record_prefix, errors, sep, max_level)\u001b[0m\n\u001b[0;32m    445\u001b[0m     data \u001b[38;5;241m=\u001b[39m \u001b[38;5;28mlist\u001b[39m(data)\n\u001b[0;32m    446\u001b[0m \u001b[38;5;28;01melse\u001b[39;00m:\n\u001b[1;32m--> 447\u001b[0m     \u001b[38;5;28;01mraise\u001b[39;00m \u001b[38;5;167;01mNotImplementedError\u001b[39;00m\n\u001b[0;32m    449\u001b[0m \u001b[38;5;66;03m# check to see if a simple recursive function is possible to\u001b[39;00m\n\u001b[0;32m    450\u001b[0m \u001b[38;5;66;03m# improve performance (see #15621) but only for cases such\u001b[39;00m\n\u001b[0;32m    451\u001b[0m \u001b[38;5;66;03m# as pd.Dataframe(data) or pd.Dataframe(data, sep)\u001b[39;00m\n\u001b[0;32m    452\u001b[0m \u001b[38;5;28;01mif\u001b[39;00m (\n\u001b[0;32m    453\u001b[0m     record_path \u001b[38;5;129;01mis\u001b[39;00m \u001b[38;5;28;01mNone\u001b[39;00m\n\u001b[0;32m    454\u001b[0m     \u001b[38;5;129;01mand\u001b[39;00m meta \u001b[38;5;129;01mis\u001b[39;00m \u001b[38;5;28;01mNone\u001b[39;00m\n\u001b[1;32m   (...)\u001b[0m\n\u001b[0;32m    457\u001b[0m     \u001b[38;5;129;01mand\u001b[39;00m max_level \u001b[38;5;129;01mis\u001b[39;00m \u001b[38;5;28;01mNone\u001b[39;00m\n\u001b[0;32m    458\u001b[0m ):\n",
      "\u001b[1;31mNotImplementedError\u001b[0m: "
     ]
    }
   ],
   "source": [
    "url = 'https://fintual.cl/api/real_assets/7276'\n",
    "response = requests.get(url)\n",
    "json = response.json()\n",
    "df = pd.json_normalize(json['data'])\n",
    "df"
   ]
  },
  {
   "cell_type": "code",
   "execution_count": 16,
   "metadata": {},
   "outputs": [
    {
     "ename": "TypeError",
     "evalue": "can only concatenate str (not \"builtin_function_or_method\") to str",
     "output_type": "error",
     "traceback": [
      "\u001b[1;31m---------------------------------------------------------------------------\u001b[0m",
      "\u001b[1;31mTypeError\u001b[0m                                 Traceback (most recent call last)",
      "Cell \u001b[1;32mIn[16], line 10\u001b[0m\n\u001b[0;32m      2\u001b[0m \u001b[38;5;66;03m#15077/days?to_date=2020-01-05\u001b[39;00m\n\u001b[0;32m      5\u001b[0m data_to_ask\u001b[38;5;241m=\u001b[39m {\n\u001b[0;32m      6\u001b[0m     \u001b[38;5;124m'\u001b[39m\u001b[38;5;124mfrom_date\u001b[39m\u001b[38;5;124m'\u001b[39m: \u001b[38;5;124m'\u001b[39m\u001b[38;5;124m2023-07-01\u001b[39m\u001b[38;5;124m'\u001b[39m,\n\u001b[0;32m      7\u001b[0m     \u001b[38;5;124m'\u001b[39m\u001b[38;5;124mto_date\u001b[39m\u001b[38;5;124m'\u001b[39m: \u001b[38;5;124m'\u001b[39m\u001b[38;5;124m2023-07-05\u001b[39m\u001b[38;5;124m'\u001b[39m\n\u001b[0;32m      8\u001b[0m }\n\u001b[1;32m---> 10\u001b[0m response \u001b[38;5;241m=\u001b[39m requests\u001b[38;5;241m.\u001b[39mget(url \u001b[38;5;241m+\u001b[39m \u001b[38;5;28mid\u001b[39m \u001b[38;5;241m+\u001b[39m \u001b[38;5;124m'\u001b[39m\u001b[38;5;124m/days?\u001b[39m\u001b[38;5;124m'\u001b[39m, data\u001b[38;5;241m=\u001b[39mdata_to_ask)\n\u001b[0;32m     11\u001b[0m json \u001b[38;5;241m=\u001b[39m response\u001b[38;5;241m.\u001b[39mjson()\n\u001b[0;32m     12\u001b[0m json\n",
      "\u001b[1;31mTypeError\u001b[0m: can only concatenate str (not \"builtin_function_or_method\") to str"
     ]
    }
   ],
   "source": [
    "url = 'https://fintual.cl/api/real_assets/'\n",
    "#15077/days?to_date=2020-01-05\n",
    "\n",
    "\n",
    "data_to_ask= {\n",
    "    'from_date': '2023-07-01',\n",
    "    'to_date': '2023-07-05'\n",
    "}\n",
    "\n",
    "response = requests.get(url + id + '/days?', data=data_to_ask)\n",
    "json = response.json()\n",
    "json"
   ]
  },
  {
   "cell_type": "code",
   "execution_count": 2,
   "metadata": {},
   "outputs": [
    {
     "name": "stdout",
     "output_type": "stream",
     "text": [
      "Status Code: 200\n"
     ]
    }
   ],
   "source": [
    "url = 'https://fintual.cl/api/real_assets/'\n",
    "#15077/days?to_date=2020-01-05\n",
    "id_conservative_streep = '15077'\n",
    "id_conservative_clooney = '188'\n",
    "id_moderate_pit = '187'\n",
    "id_risky_norris = '186'\n",
    "\n",
    "data_to_ask= {\n",
    "    'from_date': '2023-07-01',\n",
    "    'to_date': '2023-07-05'\n",
    "}\n",
    "\n",
    "response = requests.get(url + id_conservative_clooney + '/days?', data=data_to_ask)\n",
    "print(f'Status Code: {response.status_code}')\n"
   ]
  },
  {
   "cell_type": "code",
   "execution_count": 3,
   "metadata": {},
   "outputs": [],
   "source": [
    "json = response.json()"
   ]
  },
  {
   "cell_type": "code",
   "execution_count": 4,
   "metadata": {},
   "outputs": [],
   "source": [
    "df = pd.json_normalize(json['data'])\n",
    "df = df[['attributes.date', 'attributes.net_asset_value']]\n",
    "df['attributes.net_asset_value'] = df['attributes.net_asset_value'].astype(np.float64)"
   ]
  },
  {
   "cell_type": "code",
   "execution_count": 5,
   "metadata": {},
   "outputs": [
    {
     "data": {
      "text/plain": [
       "-0.00032061320898066196"
      ]
     },
     "execution_count": 5,
     "metadata": {},
     "output_type": "execute_result"
    }
   ],
   "source": [
    "def df_roi(df):\n",
    "    first = df['attributes.net_asset_value'].iloc[0]\n",
    "    last = df['attributes.net_asset_value'].iloc[-1]\n",
    "    return (last - first) / first\n",
    "\n",
    "df_roi(df)"
   ]
  },
  {
   "cell_type": "code",
   "execution_count": 6,
   "metadata": {},
   "outputs": [],
   "source": [
    "def ask_api_real_assets(id:str, from_date: str, to_date: str):\n",
    "\n",
    "    url = 'https://fintual.cl/api/real_assets/'\n",
    "\n",
    "    data_to_ask= {\n",
    "        'from_date': from_date,\n",
    "        'to_date': to_date\n",
    "    }\n",
    "    response = requests.get(url + id + '/days?', data=data_to_ask)\n",
    "    print(f'Status Code: {response.status_code}')\n",
    "\n",
    "    return response\n",
    "\n",
    "\n",
    "def parse_json(json_data, attribute):\n",
    "    valores = []\n",
    "    for item in json_data['data']:\n",
    "        valores.append([item['attributes']['date'], item['attributes'][attribute]])\n",
    "    \n",
    "    valores = pd.DataFrame(valores, columns=['date', attribute])\n",
    "\n",
    "    if attribute == 'net_asset_value':\n",
    "        # valores[attribute] = valores[attribute].astype(float)\n",
    "        pass\n",
    "\n",
    "    return valores\n",
    "\n",
    "\n",
    "def calculate_roi(df):\n",
    "    first_value = df['net_asset_value'].iloc[0]\n",
    "    last_value = df['net_asset_value'].iloc[-1]\n",
    "    retorno = (last_value - first_value)/first_value\n",
    "    return retorno"
   ]
  },
  {
   "cell_type": "code",
   "execution_count": 7,
   "metadata": {},
   "outputs": [],
   "source": [
    "def parse_json(json_data, attribute):\n",
    "    valores = []\n",
    "    for item in json_data['data']:\n",
    "        valores.append([item['attributes']['date'], item['attributes'][attribute]])\n",
    "\n",
    "parse_json(response.json(), 'net_asset_value')"
   ]
  },
  {
   "cell_type": "code",
   "execution_count": 8,
   "metadata": {},
   "outputs": [
    {
     "ename": "NameError",
     "evalue": "name 'valores' is not defined",
     "output_type": "error",
     "traceback": [
      "\u001b[1;31m---------------------------------------------------------------------------\u001b[0m",
      "\u001b[1;31mNameError\u001b[0m                                 Traceback (most recent call last)",
      "Cell \u001b[1;32mIn[8], line 1\u001b[0m\n\u001b[1;32m----> 1\u001b[0m valores \u001b[38;5;241m=\u001b[39m pd\u001b[38;5;241m.\u001b[39mDataFrame(valores, columns\u001b[38;5;241m=\u001b[39m[\u001b[38;5;124m'\u001b[39m\u001b[38;5;124mdate\u001b[39m\u001b[38;5;124m'\u001b[39m, \u001b[38;5;124m'\u001b[39m\u001b[38;5;124mnet_asset_value\u001b[39m\u001b[38;5;124m'\u001b[39m])\n\u001b[0;32m      2\u001b[0m valores[\u001b[38;5;124m'\u001b[39m\u001b[38;5;124mnet_asset_value\u001b[39m\u001b[38;5;124m'\u001b[39m] \u001b[38;5;241m=\u001b[39m valores[\u001b[38;5;124m'\u001b[39m\u001b[38;5;124mnet_asset_value\u001b[39m\u001b[38;5;124m'\u001b[39m]\u001b[38;5;241m.\u001b[39mastype(np\u001b[38;5;241m.\u001b[39mfloat32)\n\u001b[0;32m      3\u001b[0m valores\u001b[38;5;241m.\u001b[39mplot()\n",
      "\u001b[1;31mNameError\u001b[0m: name 'valores' is not defined"
     ]
    }
   ],
   "source": [
    "valores = pd.DataFrame(valores, columns=['date', 'net_asset_value'])\n",
    "valores['net_asset_value'] = valores['net_asset_value'].astype(np.float32)\n",
    "valores.plot()"
   ]
  },
  {
   "cell_type": "code",
   "execution_count": null,
   "metadata": {},
   "outputs": [
    {
     "data": {
      "text/plain": [
       "0.28911877"
      ]
     },
     "execution_count": 154,
     "metadata": {},
     "output_type": "execute_result"
    }
   ],
   "source": [
    "first_value = valores['net_asset_value'].iloc[0]\n",
    "last_value = valores['net_asset_value'].iloc[-1]\n",
    "retorno = (last_value - first_value)/first_value\n",
    "retorno"
   ]
  }
 ],
 "metadata": {
  "kernelspec": {
   "display_name": "base",
   "language": "python",
   "name": "python3"
  },
  "language_info": {
   "codemirror_mode": {
    "name": "ipython",
    "version": 3
   },
   "file_extension": ".py",
   "mimetype": "text/x-python",
   "name": "python",
   "nbconvert_exporter": "python",
   "pygments_lexer": "ipython3",
   "version": "3.11.4"
  },
  "orig_nbformat": 4
 },
 "nbformat": 4,
 "nbformat_minor": 2
}
